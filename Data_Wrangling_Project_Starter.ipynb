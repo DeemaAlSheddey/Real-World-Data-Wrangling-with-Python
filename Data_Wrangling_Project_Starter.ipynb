{
 "cells": [
  {
   "cell_type": "markdown",
   "metadata": {
    "id": "GNIwe5N7s0e_"
   },
   "source": [
    "# Real-world Data Wrangling"
   ]
  },
  {
   "cell_type": "code",
   "execution_count": 25,
   "metadata": {},
   "outputs": [
    {
     "name": "stdout",
     "output_type": "stream",
     "text": [
      "Defaulting to user installation because normal site-packages is not writeable\n",
      "Requirement already satisfied: kaggle==1.6.12 in /home/student/.local/lib/python3.10/site-packages (1.6.12)\n",
      "Requirement already satisfied: urllib3 in /opt/conda/lib/python3.10/site-packages (from kaggle==1.6.12) (1.26.15)\n",
      "Requirement already satisfied: requests in /opt/conda/lib/python3.10/site-packages (from kaggle==1.6.12) (2.29.0)\n",
      "Requirement already satisfied: certifi>=2023.7.22 in /home/student/.local/lib/python3.10/site-packages (from kaggle==1.6.12) (2025.8.3)\n",
      "Requirement already satisfied: six>=1.10 in /opt/conda/lib/python3.10/site-packages (from kaggle==1.6.12) (1.16.0)\n",
      "Requirement already satisfied: python-slugify in /home/student/.local/lib/python3.10/site-packages (from kaggle==1.6.12) (8.0.4)\n",
      "Requirement already satisfied: python-dateutil in /opt/conda/lib/python3.10/site-packages (from kaggle==1.6.12) (2.9.0.post0)\n",
      "Requirement already satisfied: bleach in /opt/conda/lib/python3.10/site-packages (from kaggle==1.6.12) (6.1.0)\n",
      "Requirement already satisfied: tqdm in /opt/conda/lib/python3.10/site-packages (from kaggle==1.6.12) (4.65.0)\n",
      "Requirement already satisfied: webencodings in /opt/conda/lib/python3.10/site-packages (from bleach->kaggle==1.6.12) (0.5.1)\n",
      "Requirement already satisfied: text-unidecode>=1.3 in /home/student/.local/lib/python3.10/site-packages (from python-slugify->kaggle==1.6.12) (1.3)\n",
      "Requirement already satisfied: charset-normalizer<4,>=2 in /opt/conda/lib/python3.10/site-packages (from requests->kaggle==1.6.12) (2.0.4)\n",
      "Requirement already satisfied: idna<4,>=2.5 in /opt/conda/lib/python3.10/site-packages (from requests->kaggle==1.6.12) (3.4)\n"
     ]
    }
   ],
   "source": [
    "!python -m pip install kaggle==1.6.12"
   ]
  },
  {
   "cell_type": "code",
   "execution_count": 26,
   "metadata": {},
   "outputs": [
    {
     "name": "stdout",
     "output_type": "stream",
     "text": [
      "Collecting ucimlrepo\n",
      "  Using cached ucimlrepo-0.0.7-py3-none-any.whl (8.0 kB)\n",
      "Collecting numpy==1.24.3\n",
      "  Using cached numpy-1.24.3-cp310-cp310-manylinux_2_17_x86_64.manylinux2014_x86_64.whl (17.3 MB)\n",
      "Collecting certifi>=2020.12.5\n",
      "  Using cached certifi-2025.8.3-py3-none-any.whl (161 kB)\n",
      "Collecting pandas>=1.0.0\n",
      "  Using cached pandas-2.3.3-cp310-cp310-manylinux_2_24_x86_64.manylinux_2_28_x86_64.whl (12.8 MB)\n",
      "Collecting python-dateutil>=2.8.2\n",
      "  Using cached python_dateutil-2.9.0.post0-py2.py3-none-any.whl (229 kB)\n",
      "Collecting pytz>=2020.1\n",
      "  Using cached pytz-2025.2-py2.py3-none-any.whl (509 kB)\n",
      "Collecting tzdata>=2022.7\n",
      "  Using cached tzdata-2025.2-py2.py3-none-any.whl (347 kB)\n",
      "Collecting six>=1.5\n",
      "  Using cached six-1.17.0-py2.py3-none-any.whl (11 kB)\n",
      "Installing collected packages: pytz, tzdata, six, numpy, certifi, python-dateutil, pandas, ucimlrepo\n",
      "Successfully installed certifi-2025.8.3 numpy-1.24.3 pandas-2.3.3 python-dateutil-2.9.0.post0 pytz-2025.2 six-1.17.0 tzdata-2025.2 ucimlrepo-0.0.7\n",
      "\u001b[33mWARNING: Target directory /workspace/pandas-2.3.3.dist-info already exists. Specify --upgrade to force replacement.\u001b[0m\u001b[33m\n",
      "\u001b[0m\u001b[33mWARNING: Target directory /workspace/__pycache__ already exists. Specify --upgrade to force replacement.\u001b[0m\u001b[33m\n",
      "\u001b[0m\u001b[33mWARNING: Target directory /workspace/six-1.17.0.dist-info already exists. Specify --upgrade to force replacement.\u001b[0m\u001b[33m\n",
      "\u001b[0m\u001b[33mWARNING: Target directory /workspace/python_dateutil-2.9.0.post0.dist-info already exists. Specify --upgrade to force replacement.\u001b[0m\u001b[33m\n",
      "\u001b[0m\u001b[33mWARNING: Target directory /workspace/numpy already exists. Specify --upgrade to force replacement.\u001b[0m\u001b[33m\n",
      "\u001b[0m\u001b[33mWARNING: Target directory /workspace/pandas already exists. Specify --upgrade to force replacement.\u001b[0m\u001b[33m\n",
      "\u001b[0m\u001b[33mWARNING: Target directory /workspace/numpy-1.24.3.dist-info already exists. Specify --upgrade to force replacement.\u001b[0m\u001b[33m\n",
      "\u001b[0m\u001b[33mWARNING: Target directory /workspace/tzdata already exists. Specify --upgrade to force replacement.\u001b[0m\u001b[33m\n",
      "\u001b[0m\u001b[33mWARNING: Target directory /workspace/ucimlrepo already exists. Specify --upgrade to force replacement.\u001b[0m\u001b[33m\n",
      "\u001b[0m\u001b[33mWARNING: Target directory /workspace/certifi-2025.8.3.dist-info already exists. Specify --upgrade to force replacement.\u001b[0m\u001b[33m\n",
      "\u001b[0m\u001b[33mWARNING: Target directory /workspace/pytz-2025.2.dist-info already exists. Specify --upgrade to force replacement.\u001b[0m\u001b[33m\n",
      "\u001b[0m\u001b[33mWARNING: Target directory /workspace/ucimlrepo-0.0.7.dist-info already exists. Specify --upgrade to force replacement.\u001b[0m\u001b[33m\n",
      "\u001b[0m\u001b[33mWARNING: Target directory /workspace/numpy.libs already exists. Specify --upgrade to force replacement.\u001b[0m\u001b[33m\n",
      "\u001b[0m\u001b[33mWARNING: Target directory /workspace/pytz already exists. Specify --upgrade to force replacement.\u001b[0m\u001b[33m\n",
      "\u001b[0m\u001b[33mWARNING: Target directory /workspace/dateutil already exists. Specify --upgrade to force replacement.\u001b[0m\u001b[33m\n",
      "\u001b[0m\u001b[33mWARNING: Target directory /workspace/tzdata-2025.2.dist-info already exists. Specify --upgrade to force replacement.\u001b[0m\u001b[33m\n",
      "\u001b[0m\u001b[33mWARNING: Target directory /workspace/six.py already exists. Specify --upgrade to force replacement.\u001b[0m\u001b[33m\n",
      "\u001b[0m\u001b[33mWARNING: Target directory /workspace/certifi already exists. Specify --upgrade to force replacement.\u001b[0m\u001b[33m\n",
      "\u001b[0m\u001b[33mWARNING: Target directory /workspace/bin already exists. Specify --upgrade to force replacement.\u001b[0m\u001b[33m\n",
      "\u001b[0m"
     ]
    }
   ],
   "source": [
    "!pip install --target=/workspace ucimlrepo numpy==1.24.3"
   ]
  },
  {
   "cell_type": "markdown",
   "metadata": {},
   "source": [
    "**Note:** Restart the kernel to use updated package(s)."
   ]
  },
  {
   "cell_type": "markdown",
   "metadata": {
    "id": "lDYDkH-Zs7Nn"
   },
   "source": [
    "## 1. Gather data\n"
   ]
  },
  {
   "cell_type": "markdown",
   "metadata": {
    "id": "LbN7z7rcuqpO"
   },
   "source": [
    "### **1.1.** Problem Statement\n",
    "In this project, I want to find out if Netflix includes the most popular and top-rated movies from IMDb.\n",
    "I will use two datasets: one with IMDb’s top movies and another with Netflix titles.\n",
    "I will also analyze which genres are most common and compare how many of these top movies are available on Netflix compared to IMDb."
   ]
  },
  {
   "cell_type": "markdown",
   "metadata": {
    "id": "8AQfBAdUypMm"
   },
   "source": [
    "### **1.2.** Gather at least two datasets using two different data gathering methods"
   ]
  },
  {
   "cell_type": "markdown",
   "metadata": {
    "id": "7e6gS0wL1KTu"
   },
   "source": [
    "#### **Dataset 1: IMDb Top Rated Movies** \n",
    "\n",
    "Type: CSV File.\n",
    "\n",
    "Method: Manually downloaded from Kaggle and uploaded to the workspace\n",
    "\n",
    "Dataset variables:\n",
    "\n",
    "*   *tconst*\n",
    "*   *primaryTitle*\n",
    "*   *startYear*\n",
    "*   *rank*\n",
    "*   *averageRating*\n",
    "*   *numVotes*\n",
    "*   *runtimeMinutes*\n",
    "*   *directors*\n",
    "*   *writers*\n",
    "*   *genres*\n",
    "*   *IMDbLink*\n",
    "*   *Title_IMDb_Link*"
   ]
  },
  {
   "cell_type": "code",
   "execution_count": 34,
   "metadata": {
    "id": "Su8E0uLuYkHU",
    "scrolled": false
   },
   "outputs": [
    {
     "data": {
      "text/html": [
       "<div>\n",
       "<style scoped>\n",
       "    .dataframe tbody tr th:only-of-type {\n",
       "        vertical-align: middle;\n",
       "    }\n",
       "\n",
       "    .dataframe tbody tr th {\n",
       "        vertical-align: top;\n",
       "    }\n",
       "\n",
       "    .dataframe thead th {\n",
       "        text-align: right;\n",
       "    }\n",
       "</style>\n",
       "<table border=\"1\" class=\"dataframe\">\n",
       "  <thead>\n",
       "    <tr style=\"text-align: right;\">\n",
       "      <th></th>\n",
       "      <th>tconst</th>\n",
       "      <th>primaryTitle</th>\n",
       "      <th>startYear</th>\n",
       "      <th>rank</th>\n",
       "      <th>averageRating</th>\n",
       "      <th>numVotes</th>\n",
       "      <th>runtimeMinutes</th>\n",
       "      <th>directors</th>\n",
       "      <th>writers</th>\n",
       "      <th>genres</th>\n",
       "      <th>IMDbLink</th>\n",
       "      <th>Title_IMDb_Link</th>\n",
       "    </tr>\n",
       "  </thead>\n",
       "  <tbody>\n",
       "    <tr>\n",
       "      <th>0</th>\n",
       "      <td>tt0111161</td>\n",
       "      <td>The Shawshank Redemption</td>\n",
       "      <td>1994</td>\n",
       "      <td>1</td>\n",
       "      <td>9.3</td>\n",
       "      <td>3103987</td>\n",
       "      <td>142</td>\n",
       "      <td>Frank Darabont</td>\n",
       "      <td>Stephen King, Frank Darabont</td>\n",
       "      <td>Drama</td>\n",
       "      <td>&lt;a href=\"https://www.imdb.com/title/tt0111161\"...</td>\n",
       "      <td>&lt;a href=\"https://www.imdb.com/title/tt0111161\"...</td>\n",
       "    </tr>\n",
       "    <tr>\n",
       "      <th>1</th>\n",
       "      <td>tt0068646</td>\n",
       "      <td>The Godfather</td>\n",
       "      <td>1972</td>\n",
       "      <td>2</td>\n",
       "      <td>9.2</td>\n",
       "      <td>2163304</td>\n",
       "      <td>175</td>\n",
       "      <td>Francis Ford Coppola</td>\n",
       "      <td>Mario Puzo, Francis Ford Coppola</td>\n",
       "      <td>Crime, Drama</td>\n",
       "      <td>&lt;a href=\"https://www.imdb.com/title/tt0068646\"...</td>\n",
       "      <td>&lt;a href=\"https://www.imdb.com/title/tt0068646\"...</td>\n",
       "    </tr>\n",
       "    <tr>\n",
       "      <th>2</th>\n",
       "      <td>tt0468569</td>\n",
       "      <td>The Dark Knight</td>\n",
       "      <td>2008</td>\n",
       "      <td>3</td>\n",
       "      <td>9.1</td>\n",
       "      <td>3079053</td>\n",
       "      <td>152</td>\n",
       "      <td>Christopher Nolan</td>\n",
       "      <td>Jonathan Nolan, Christopher Nolan, David S. Go...</td>\n",
       "      <td>Action, Crime, Drama</td>\n",
       "      <td>&lt;a href=\"https://www.imdb.com/title/tt0468569\"...</td>\n",
       "      <td>&lt;a href=\"https://www.imdb.com/title/tt0468569\"...</td>\n",
       "    </tr>\n",
       "    <tr>\n",
       "      <th>3</th>\n",
       "      <td>tt0167260</td>\n",
       "      <td>The Lord of the Rings: The Return of the King</td>\n",
       "      <td>2003</td>\n",
       "      <td>4</td>\n",
       "      <td>9.0</td>\n",
       "      <td>2109665</td>\n",
       "      <td>201</td>\n",
       "      <td>Peter Jackson</td>\n",
       "      <td>J.R.R. Tolkien, Fran Walsh, Philippa Boyens, P...</td>\n",
       "      <td>Adventure, Drama, Fantasy</td>\n",
       "      <td>&lt;a href=\"https://www.imdb.com/title/tt0167260\"...</td>\n",
       "      <td>&lt;a href=\"https://www.imdb.com/title/tt0167260\"...</td>\n",
       "    </tr>\n",
       "    <tr>\n",
       "      <th>4</th>\n",
       "      <td>tt0108052</td>\n",
       "      <td>Schindler's List</td>\n",
       "      <td>1993</td>\n",
       "      <td>5</td>\n",
       "      <td>9.0</td>\n",
       "      <td>1547638</td>\n",
       "      <td>195</td>\n",
       "      <td>Steven Spielberg</td>\n",
       "      <td>Thomas Keneally, Steven Zaillian</td>\n",
       "      <td>Biography, Drama, History</td>\n",
       "      <td>&lt;a href=\"https://www.imdb.com/title/tt0108052\"...</td>\n",
       "      <td>&lt;a href=\"https://www.imdb.com/title/tt0108052\"...</td>\n",
       "    </tr>\n",
       "    <tr>\n",
       "      <th>...</th>\n",
       "      <td>...</td>\n",
       "      <td>...</td>\n",
       "      <td>...</td>\n",
       "      <td>...</td>\n",
       "      <td>...</td>\n",
       "      <td>...</td>\n",
       "      <td>...</td>\n",
       "      <td>...</td>\n",
       "      <td>...</td>\n",
       "      <td>...</td>\n",
       "      <td>...</td>\n",
       "      <td>...</td>\n",
       "    </tr>\n",
       "    <tr>\n",
       "      <th>4995</th>\n",
       "      <td>tt11358390</td>\n",
       "      <td>Renfield</td>\n",
       "      <td>2023</td>\n",
       "      <td>4996</td>\n",
       "      <td>6.4</td>\n",
       "      <td>116042</td>\n",
       "      <td>93</td>\n",
       "      <td>Chris McKay</td>\n",
       "      <td>Ryan Ridley, Robert Kirkman, Ava Tramer</td>\n",
       "      <td>Action, Comedy, Fantasy</td>\n",
       "      <td>&lt;a href=\"https://www.imdb.com/title/tt11358390...</td>\n",
       "      <td>&lt;a href=\"https://www.imdb.com/title/tt11358390...</td>\n",
       "    </tr>\n",
       "    <tr>\n",
       "      <th>4996</th>\n",
       "      <td>tt1433108</td>\n",
       "      <td>Faster</td>\n",
       "      <td>2010</td>\n",
       "      <td>4997</td>\n",
       "      <td>6.4</td>\n",
       "      <td>115914</td>\n",
       "      <td>98</td>\n",
       "      <td>George Tillman Jr.</td>\n",
       "      <td>Tony Gayton, Joe Gayton</td>\n",
       "      <td>Action, Crime, Drama</td>\n",
       "      <td>&lt;a href=\"https://www.imdb.com/title/tt1433108\"...</td>\n",
       "      <td>&lt;a href=\"https://www.imdb.com/title/tt1433108\"...</td>\n",
       "    </tr>\n",
       "    <tr>\n",
       "      <th>4997</th>\n",
       "      <td>tt1007029</td>\n",
       "      <td>The Iron Lady</td>\n",
       "      <td>2011</td>\n",
       "      <td>4998</td>\n",
       "      <td>6.4</td>\n",
       "      <td>115822</td>\n",
       "      <td>105</td>\n",
       "      <td>Phyllida Lloyd</td>\n",
       "      <td>Abi Morgan</td>\n",
       "      <td>Biography, Drama</td>\n",
       "      <td>&lt;a href=\"https://www.imdb.com/title/tt1007029\"...</td>\n",
       "      <td>&lt;a href=\"https://www.imdb.com/title/tt1007029\"...</td>\n",
       "    </tr>\n",
       "    <tr>\n",
       "      <th>4998</th>\n",
       "      <td>tt1216492</td>\n",
       "      <td>Leap Year</td>\n",
       "      <td>2010</td>\n",
       "      <td>4999</td>\n",
       "      <td>6.4</td>\n",
       "      <td>114699</td>\n",
       "      <td>100</td>\n",
       "      <td>Anand Tucker</td>\n",
       "      <td>Deborah Kaplan, Harry Elfont</td>\n",
       "      <td>Comedy, Romance</td>\n",
       "      <td>&lt;a href=\"https://www.imdb.com/title/tt1216492\"...</td>\n",
       "      <td>&lt;a href=\"https://www.imdb.com/title/tt1216492\"...</td>\n",
       "    </tr>\n",
       "    <tr>\n",
       "      <th>4999</th>\n",
       "      <td>tt0079574</td>\n",
       "      <td>Moonraker</td>\n",
       "      <td>1979</td>\n",
       "      <td>5000</td>\n",
       "      <td>6.3</td>\n",
       "      <td>114232</td>\n",
       "      <td>126</td>\n",
       "      <td>Lewis Gilbert</td>\n",
       "      <td>Christopher Wood, Ian Fleming, Gerry Anderson,...</td>\n",
       "      <td>Action, Adventure, Sci-Fi</td>\n",
       "      <td>&lt;a href=\"https://www.imdb.com/title/tt0079574\"...</td>\n",
       "      <td>&lt;a href=\"https://www.imdb.com/title/tt0079574\"...</td>\n",
       "    </tr>\n",
       "  </tbody>\n",
       "</table>\n",
       "<p>5000 rows × 12 columns</p>\n",
       "</div>"
      ],
      "text/plain": [
       "          tconst                                   primaryTitle  startYear  \\\n",
       "0      tt0111161                       The Shawshank Redemption       1994   \n",
       "1      tt0068646                                  The Godfather       1972   \n",
       "2      tt0468569                                The Dark Knight       2008   \n",
       "3      tt0167260  The Lord of the Rings: The Return of the King       2003   \n",
       "4      tt0108052                               Schindler's List       1993   \n",
       "...          ...                                            ...        ...   \n",
       "4995  tt11358390                                       Renfield       2023   \n",
       "4996   tt1433108                                         Faster       2010   \n",
       "4997   tt1007029                                  The Iron Lady       2011   \n",
       "4998   tt1216492                                      Leap Year       2010   \n",
       "4999   tt0079574                                      Moonraker       1979   \n",
       "\n",
       "      rank  averageRating  numVotes  runtimeMinutes             directors  \\\n",
       "0        1            9.3   3103987             142        Frank Darabont   \n",
       "1        2            9.2   2163304             175  Francis Ford Coppola   \n",
       "2        3            9.1   3079053             152     Christopher Nolan   \n",
       "3        4            9.0   2109665             201         Peter Jackson   \n",
       "4        5            9.0   1547638             195      Steven Spielberg   \n",
       "...    ...            ...       ...             ...                   ...   \n",
       "4995  4996            6.4    116042              93           Chris McKay   \n",
       "4996  4997            6.4    115914              98    George Tillman Jr.   \n",
       "4997  4998            6.4    115822             105        Phyllida Lloyd   \n",
       "4998  4999            6.4    114699             100          Anand Tucker   \n",
       "4999  5000            6.3    114232             126         Lewis Gilbert   \n",
       "\n",
       "                                                writers  \\\n",
       "0                          Stephen King, Frank Darabont   \n",
       "1                      Mario Puzo, Francis Ford Coppola   \n",
       "2     Jonathan Nolan, Christopher Nolan, David S. Go...   \n",
       "3     J.R.R. Tolkien, Fran Walsh, Philippa Boyens, P...   \n",
       "4                      Thomas Keneally, Steven Zaillian   \n",
       "...                                                 ...   \n",
       "4995            Ryan Ridley, Robert Kirkman, Ava Tramer   \n",
       "4996                            Tony Gayton, Joe Gayton   \n",
       "4997                                         Abi Morgan   \n",
       "4998                       Deborah Kaplan, Harry Elfont   \n",
       "4999  Christopher Wood, Ian Fleming, Gerry Anderson,...   \n",
       "\n",
       "                         genres  \\\n",
       "0                         Drama   \n",
       "1                  Crime, Drama   \n",
       "2          Action, Crime, Drama   \n",
       "3     Adventure, Drama, Fantasy   \n",
       "4     Biography, Drama, History   \n",
       "...                         ...   \n",
       "4995    Action, Comedy, Fantasy   \n",
       "4996       Action, Crime, Drama   \n",
       "4997           Biography, Drama   \n",
       "4998            Comedy, Romance   \n",
       "4999  Action, Adventure, Sci-Fi   \n",
       "\n",
       "                                               IMDbLink  \\\n",
       "0     <a href=\"https://www.imdb.com/title/tt0111161\"...   \n",
       "1     <a href=\"https://www.imdb.com/title/tt0068646\"...   \n",
       "2     <a href=\"https://www.imdb.com/title/tt0468569\"...   \n",
       "3     <a href=\"https://www.imdb.com/title/tt0167260\"...   \n",
       "4     <a href=\"https://www.imdb.com/title/tt0108052\"...   \n",
       "...                                                 ...   \n",
       "4995  <a href=\"https://www.imdb.com/title/tt11358390...   \n",
       "4996  <a href=\"https://www.imdb.com/title/tt1433108\"...   \n",
       "4997  <a href=\"https://www.imdb.com/title/tt1007029\"...   \n",
       "4998  <a href=\"https://www.imdb.com/title/tt1216492\"...   \n",
       "4999  <a href=\"https://www.imdb.com/title/tt0079574\"...   \n",
       "\n",
       "                                        Title_IMDb_Link  \n",
       "0     <a href=\"https://www.imdb.com/title/tt0111161\"...  \n",
       "1     <a href=\"https://www.imdb.com/title/tt0068646\"...  \n",
       "2     <a href=\"https://www.imdb.com/title/tt0468569\"...  \n",
       "3     <a href=\"https://www.imdb.com/title/tt0167260\"...  \n",
       "4     <a href=\"https://www.imdb.com/title/tt0108052\"...  \n",
       "...                                                 ...  \n",
       "4995  <a href=\"https://www.imdb.com/title/tt11358390...  \n",
       "4996  <a href=\"https://www.imdb.com/title/tt1433108\"...  \n",
       "4997  <a href=\"https://www.imdb.com/title/tt1007029\"...  \n",
       "4998  <a href=\"https://www.imdb.com/title/tt1216492\"...  \n",
       "4999  <a href=\"https://www.imdb.com/title/tt0079574\"...  \n",
       "\n",
       "[5000 rows x 12 columns]"
      ]
     },
     "execution_count": 34,
     "metadata": {},
     "output_type": "execute_result"
    }
   ],
   "source": [
    "#1st data gathering and loading method\n",
    "import pandas as pd\n",
    "most_watched_movies=pd.read_csv('results_with_crew.csv')\n",
    "most_watched_movies\n"
   ]
  },
  {
   "cell_type": "markdown",
   "metadata": {
    "id": "hoUjq1tPzz7P"
   },
   "source": [
    "#### **Dataset 2: Netflix Titles**\n",
    "\n",
    "Type: CSV File.\n",
    "\n",
    "Method: Programmatically downloaded using Kaggle command line\n",
    "\n",
    "Dataset variables:\n",
    "\n",
    "*   *show_id*\n",
    "*   *type*\n",
    "*   *title*\n",
    "*   *director*\n",
    "*   *cast*\n",
    "*   *country*\n",
    "*   *date_added*\n",
    "*   *release_year*\n",
    "*   *rating*\n",
    "*   *duration*\n",
    "*   *listed_in*\n",
    "*   *description*"
   ]
  },
  {
   "cell_type": "code",
   "execution_count": 28,
   "metadata": {
    "id": "6zT0QxRyYmm7"
   },
   "outputs": [
    {
     "name": "stdout",
     "output_type": "stream",
     "text": [
      "Warning: Looks like you're using an outdated API Version, please consider updating (server 1.7.4.2 / client 1.6.12)\n",
      "Dataset URL: https://www.kaggle.com/datasets/shivamb/netflix-shows\n",
      "License(s): CC0-1.0\n",
      "Downloading netflix-shows.zip to ./data\n",
      "  0%|                                               | 0.00/1.34M [00:00<?, ?B/s]\n",
      "100%|███████████████████████████████████████| 1.34M/1.34M [00:00<00:00, 120MB/s]\n"
     ]
    }
   ],
   "source": [
    "#2nd data gathering and loading method\n",
    "!~/.local/bin/kaggle datasets download -d shivamb/netflix-shows -p ./data --unzip"
   ]
  },
  {
   "cell_type": "code",
   "execution_count": 44,
   "metadata": {},
   "outputs": [
    {
     "data": {
      "text/html": [
       "<div>\n",
       "<style scoped>\n",
       "    .dataframe tbody tr th:only-of-type {\n",
       "        vertical-align: middle;\n",
       "    }\n",
       "\n",
       "    .dataframe tbody tr th {\n",
       "        vertical-align: top;\n",
       "    }\n",
       "\n",
       "    .dataframe thead th {\n",
       "        text-align: right;\n",
       "    }\n",
       "</style>\n",
       "<table border=\"1\" class=\"dataframe\">\n",
       "  <thead>\n",
       "    <tr style=\"text-align: right;\">\n",
       "      <th></th>\n",
       "      <th>show_id</th>\n",
       "      <th>type</th>\n",
       "      <th>title</th>\n",
       "      <th>director</th>\n",
       "      <th>cast</th>\n",
       "      <th>country</th>\n",
       "      <th>date_added</th>\n",
       "      <th>release_year</th>\n",
       "      <th>rating</th>\n",
       "      <th>duration</th>\n",
       "      <th>listed_in</th>\n",
       "      <th>description</th>\n",
       "    </tr>\n",
       "  </thead>\n",
       "  <tbody>\n",
       "    <tr>\n",
       "      <th>0</th>\n",
       "      <td>s1</td>\n",
       "      <td>Movie</td>\n",
       "      <td>Dick Johnson Is Dead</td>\n",
       "      <td>Kirsten Johnson</td>\n",
       "      <td>NaN</td>\n",
       "      <td>United States</td>\n",
       "      <td>September 25, 2021</td>\n",
       "      <td>2020</td>\n",
       "      <td>PG-13</td>\n",
       "      <td>90 min</td>\n",
       "      <td>Documentaries</td>\n",
       "      <td>As her father nears the end of his life, filmm...</td>\n",
       "    </tr>\n",
       "    <tr>\n",
       "      <th>1</th>\n",
       "      <td>s2</td>\n",
       "      <td>TV Show</td>\n",
       "      <td>Blood &amp; Water</td>\n",
       "      <td>NaN</td>\n",
       "      <td>Ama Qamata, Khosi Ngema, Gail Mabalane, Thaban...</td>\n",
       "      <td>South Africa</td>\n",
       "      <td>September 24, 2021</td>\n",
       "      <td>2021</td>\n",
       "      <td>TV-MA</td>\n",
       "      <td>2 Seasons</td>\n",
       "      <td>International TV Shows, TV Dramas, TV Mysteries</td>\n",
       "      <td>After crossing paths at a party, a Cape Town t...</td>\n",
       "    </tr>\n",
       "    <tr>\n",
       "      <th>2</th>\n",
       "      <td>s3</td>\n",
       "      <td>TV Show</td>\n",
       "      <td>Ganglands</td>\n",
       "      <td>Julien Leclercq</td>\n",
       "      <td>Sami Bouajila, Tracy Gotoas, Samuel Jouy, Nabi...</td>\n",
       "      <td>NaN</td>\n",
       "      <td>September 24, 2021</td>\n",
       "      <td>2021</td>\n",
       "      <td>TV-MA</td>\n",
       "      <td>1 Season</td>\n",
       "      <td>Crime TV Shows, International TV Shows, TV Act...</td>\n",
       "      <td>To protect his family from a powerful drug lor...</td>\n",
       "    </tr>\n",
       "    <tr>\n",
       "      <th>3</th>\n",
       "      <td>s4</td>\n",
       "      <td>TV Show</td>\n",
       "      <td>Jailbirds New Orleans</td>\n",
       "      <td>NaN</td>\n",
       "      <td>NaN</td>\n",
       "      <td>NaN</td>\n",
       "      <td>September 24, 2021</td>\n",
       "      <td>2021</td>\n",
       "      <td>TV-MA</td>\n",
       "      <td>1 Season</td>\n",
       "      <td>Docuseries, Reality TV</td>\n",
       "      <td>Feuds, flirtations and toilet talk go down amo...</td>\n",
       "    </tr>\n",
       "    <tr>\n",
       "      <th>4</th>\n",
       "      <td>s5</td>\n",
       "      <td>TV Show</td>\n",
       "      <td>Kota Factory</td>\n",
       "      <td>NaN</td>\n",
       "      <td>Mayur More, Jitendra Kumar, Ranjan Raj, Alam K...</td>\n",
       "      <td>India</td>\n",
       "      <td>September 24, 2021</td>\n",
       "      <td>2021</td>\n",
       "      <td>TV-MA</td>\n",
       "      <td>2 Seasons</td>\n",
       "      <td>International TV Shows, Romantic TV Shows, TV ...</td>\n",
       "      <td>In a city of coaching centers known to train I...</td>\n",
       "    </tr>\n",
       "  </tbody>\n",
       "</table>\n",
       "</div>"
      ],
      "text/plain": [
       "  show_id     type                  title         director  \\\n",
       "0      s1    Movie   Dick Johnson Is Dead  Kirsten Johnson   \n",
       "1      s2  TV Show          Blood & Water              NaN   \n",
       "2      s3  TV Show              Ganglands  Julien Leclercq   \n",
       "3      s4  TV Show  Jailbirds New Orleans              NaN   \n",
       "4      s5  TV Show           Kota Factory              NaN   \n",
       "\n",
       "                                                cast        country  \\\n",
       "0                                                NaN  United States   \n",
       "1  Ama Qamata, Khosi Ngema, Gail Mabalane, Thaban...   South Africa   \n",
       "2  Sami Bouajila, Tracy Gotoas, Samuel Jouy, Nabi...            NaN   \n",
       "3                                                NaN            NaN   \n",
       "4  Mayur More, Jitendra Kumar, Ranjan Raj, Alam K...          India   \n",
       "\n",
       "           date_added  release_year rating   duration  \\\n",
       "0  September 25, 2021          2020  PG-13     90 min   \n",
       "1  September 24, 2021          2021  TV-MA  2 Seasons   \n",
       "2  September 24, 2021          2021  TV-MA   1 Season   \n",
       "3  September 24, 2021          2021  TV-MA   1 Season   \n",
       "4  September 24, 2021          2021  TV-MA  2 Seasons   \n",
       "\n",
       "                                           listed_in  \\\n",
       "0                                      Documentaries   \n",
       "1    International TV Shows, TV Dramas, TV Mysteries   \n",
       "2  Crime TV Shows, International TV Shows, TV Act...   \n",
       "3                             Docuseries, Reality TV   \n",
       "4  International TV Shows, Romantic TV Shows, TV ...   \n",
       "\n",
       "                                         description  \n",
       "0  As her father nears the end of his life, filmm...  \n",
       "1  After crossing paths at a party, a Cape Town t...  \n",
       "2  To protect his family from a powerful drug lor...  \n",
       "3  Feuds, flirtations and toilet talk go down amo...  \n",
       "4  In a city of coaching centers known to train I...  "
      ]
     },
     "execution_count": 44,
     "metadata": {},
     "output_type": "execute_result"
    }
   ],
   "source": [
    "netflix_data=pd.read_csv('data/netflix_titles.csv')\n",
    "netflix_data.head()"
   ]
  },
  {
   "cell_type": "markdown",
   "metadata": {},
   "source": [
    "Optional data storing step: You may save your raw dataset files to the local data store before moving to the next step."
   ]
  },
  {
   "cell_type": "code",
   "execution_count": null,
   "metadata": {},
   "outputs": [],
   "source": [
    "#Optional: store the raw data in your local data store"
   ]
  },
  {
   "cell_type": "markdown",
   "metadata": {
    "id": "QwSWIVmotLgV"
   },
   "source": [
    "## 2. Assess data\n",
    "\n",
    "Assess the data according to data quality and tidiness metrics using the report below.\n",
    "\n",
    "List **two** data quality issues and **two** tidiness issues. Assess each data issue visually **and** programmatically, then briefly describe the issue you find.  **Make sure you include justifications for the methods you use for the assessment.**"
   ]
  },
  {
   "cell_type": "markdown",
   "metadata": {
    "id": "adaK2iPNzVu4"
   },
   "source": [
    "### Quality Issue 1:"
   ]
  },
  {
   "cell_type": "code",
   "execution_count": 46,
   "metadata": {
    "id": "SpW59kh-zl8d"
   },
   "outputs": [
    {
     "name": "stdout",
     "output_type": "stream",
     "text": [
      "<class 'pandas.core.frame.DataFrame'>\n",
      "RangeIndex: 5000 entries, 0 to 4999\n",
      "Data columns (total 12 columns):\n",
      " #   Column           Non-Null Count  Dtype  \n",
      "---  ------           --------------  -----  \n",
      " 0   tconst           5000 non-null   object \n",
      " 1   primaryTitle     5000 non-null   object \n",
      " 2   startYear        5000 non-null   int64  \n",
      " 3   rank             5000 non-null   int64  \n",
      " 4   averageRating    5000 non-null   float64\n",
      " 5   numVotes         5000 non-null   int64  \n",
      " 6   runtimeMinutes   5000 non-null   int64  \n",
      " 7   directors        5000 non-null   object \n",
      " 8   writers          4975 non-null   object \n",
      " 9   genres           5000 non-null   object \n",
      " 10  IMDbLink         5000 non-null   object \n",
      " 11  Title_IMDb_Link  5000 non-null   object \n",
      "dtypes: float64(1), int64(4), object(7)\n",
      "memory usage: 468.9+ KB\n"
     ]
    },
    {
     "data": {
      "text/plain": [
       "25"
      ]
     },
     "execution_count": 46,
     "metadata": {},
     "output_type": "execute_result"
    }
   ],
   "source": [
    "#Inspecting the dataframe visually\n",
    "most_watched_movies.info()"
   ]
  },
  {
   "cell_type": "code",
   "execution_count": 47,
   "metadata": {
    "id": "-qfcocStzsKg"
   },
   "outputs": [
    {
     "data": {
      "text/plain": [
       "25"
      ]
     },
     "execution_count": 47,
     "metadata": {},
     "output_type": "execute_result"
    }
   ],
   "source": [
    "#FILL IN - Inspecting the dataframe programmatically\n",
    "most_watched_movies['writers'].isna().sum()"
   ]
  },
  {
   "cell_type": "markdown",
   "metadata": {},
   "source": [
    "As we can see here the **writers** col. in the **most_watched_movies** dataframe has 25 missing values out of 5000. since the missing values are very small and to avoid having missing values we are going to drop these 25 rows to ensure accuracy."
   ]
  },
  {
   "cell_type": "markdown",
   "metadata": {
    "id": "8Be77N4I1AmE"
   },
   "source": [
    "### Quality Issue 2:"
   ]
  },
  {
   "cell_type": "code",
   "execution_count": 49,
   "metadata": {
    "id": "iMhHyiyLM2I3"
   },
   "outputs": [
    {
     "data": {
      "text/html": [
       "<div>\n",
       "<style scoped>\n",
       "    .dataframe tbody tr th:only-of-type {\n",
       "        vertical-align: middle;\n",
       "    }\n",
       "\n",
       "    .dataframe tbody tr th {\n",
       "        vertical-align: top;\n",
       "    }\n",
       "\n",
       "    .dataframe thead th {\n",
       "        text-align: right;\n",
       "    }\n",
       "</style>\n",
       "<table border=\"1\" class=\"dataframe\">\n",
       "  <thead>\n",
       "    <tr style=\"text-align: right;\">\n",
       "      <th></th>\n",
       "      <th>show_id</th>\n",
       "      <th>type</th>\n",
       "      <th>title</th>\n",
       "      <th>director</th>\n",
       "      <th>cast</th>\n",
       "      <th>country</th>\n",
       "      <th>date_added</th>\n",
       "      <th>release_year</th>\n",
       "      <th>rating</th>\n",
       "      <th>duration</th>\n",
       "      <th>listed_in</th>\n",
       "      <th>description</th>\n",
       "    </tr>\n",
       "  </thead>\n",
       "  <tbody>\n",
       "    <tr>\n",
       "      <th>0</th>\n",
       "      <td>s1</td>\n",
       "      <td>Movie</td>\n",
       "      <td>Dick Johnson Is Dead</td>\n",
       "      <td>Kirsten Johnson</td>\n",
       "      <td>NaN</td>\n",
       "      <td>United States</td>\n",
       "      <td>September 25, 2021</td>\n",
       "      <td>2020</td>\n",
       "      <td>PG-13</td>\n",
       "      <td>90 min</td>\n",
       "      <td>Documentaries</td>\n",
       "      <td>As her father nears the end of his life, filmm...</td>\n",
       "    </tr>\n",
       "    <tr>\n",
       "      <th>1</th>\n",
       "      <td>s2</td>\n",
       "      <td>TV Show</td>\n",
       "      <td>Blood &amp; Water</td>\n",
       "      <td>NaN</td>\n",
       "      <td>Ama Qamata, Khosi Ngema, Gail Mabalane, Thaban...</td>\n",
       "      <td>South Africa</td>\n",
       "      <td>September 24, 2021</td>\n",
       "      <td>2021</td>\n",
       "      <td>TV-MA</td>\n",
       "      <td>2 Seasons</td>\n",
       "      <td>International TV Shows, TV Dramas, TV Mysteries</td>\n",
       "      <td>After crossing paths at a party, a Cape Town t...</td>\n",
       "    </tr>\n",
       "    <tr>\n",
       "      <th>2</th>\n",
       "      <td>s3</td>\n",
       "      <td>TV Show</td>\n",
       "      <td>Ganglands</td>\n",
       "      <td>Julien Leclercq</td>\n",
       "      <td>Sami Bouajila, Tracy Gotoas, Samuel Jouy, Nabi...</td>\n",
       "      <td>NaN</td>\n",
       "      <td>September 24, 2021</td>\n",
       "      <td>2021</td>\n",
       "      <td>TV-MA</td>\n",
       "      <td>1 Season</td>\n",
       "      <td>Crime TV Shows, International TV Shows, TV Act...</td>\n",
       "      <td>To protect his family from a powerful drug lor...</td>\n",
       "    </tr>\n",
       "    <tr>\n",
       "      <th>3</th>\n",
       "      <td>s4</td>\n",
       "      <td>TV Show</td>\n",
       "      <td>Jailbirds New Orleans</td>\n",
       "      <td>NaN</td>\n",
       "      <td>NaN</td>\n",
       "      <td>NaN</td>\n",
       "      <td>September 24, 2021</td>\n",
       "      <td>2021</td>\n",
       "      <td>TV-MA</td>\n",
       "      <td>1 Season</td>\n",
       "      <td>Docuseries, Reality TV</td>\n",
       "      <td>Feuds, flirtations and toilet talk go down amo...</td>\n",
       "    </tr>\n",
       "    <tr>\n",
       "      <th>4</th>\n",
       "      <td>s5</td>\n",
       "      <td>TV Show</td>\n",
       "      <td>Kota Factory</td>\n",
       "      <td>NaN</td>\n",
       "      <td>Mayur More, Jitendra Kumar, Ranjan Raj, Alam K...</td>\n",
       "      <td>India</td>\n",
       "      <td>September 24, 2021</td>\n",
       "      <td>2021</td>\n",
       "      <td>TV-MA</td>\n",
       "      <td>2 Seasons</td>\n",
       "      <td>International TV Shows, Romantic TV Shows, TV ...</td>\n",
       "      <td>In a city of coaching centers known to train I...</td>\n",
       "    </tr>\n",
       "  </tbody>\n",
       "</table>\n",
       "</div>"
      ],
      "text/plain": [
       "  show_id     type                  title         director  \\\n",
       "0      s1    Movie   Dick Johnson Is Dead  Kirsten Johnson   \n",
       "1      s2  TV Show          Blood & Water              NaN   \n",
       "2      s3  TV Show              Ganglands  Julien Leclercq   \n",
       "3      s4  TV Show  Jailbirds New Orleans              NaN   \n",
       "4      s5  TV Show           Kota Factory              NaN   \n",
       "\n",
       "                                                cast        country  \\\n",
       "0                                                NaN  United States   \n",
       "1  Ama Qamata, Khosi Ngema, Gail Mabalane, Thaban...   South Africa   \n",
       "2  Sami Bouajila, Tracy Gotoas, Samuel Jouy, Nabi...            NaN   \n",
       "3                                                NaN            NaN   \n",
       "4  Mayur More, Jitendra Kumar, Ranjan Raj, Alam K...          India   \n",
       "\n",
       "           date_added  release_year rating   duration  \\\n",
       "0  September 25, 2021          2020  PG-13     90 min   \n",
       "1  September 24, 2021          2021  TV-MA  2 Seasons   \n",
       "2  September 24, 2021          2021  TV-MA   1 Season   \n",
       "3  September 24, 2021          2021  TV-MA   1 Season   \n",
       "4  September 24, 2021          2021  TV-MA  2 Seasons   \n",
       "\n",
       "                                           listed_in  \\\n",
       "0                                      Documentaries   \n",
       "1    International TV Shows, TV Dramas, TV Mysteries   \n",
       "2  Crime TV Shows, International TV Shows, TV Act...   \n",
       "3                             Docuseries, Reality TV   \n",
       "4  International TV Shows, Romantic TV Shows, TV ...   \n",
       "\n",
       "                                         description  \n",
       "0  As her father nears the end of his life, filmm...  \n",
       "1  After crossing paths at a party, a Cape Town t...  \n",
       "2  To protect his family from a powerful drug lor...  \n",
       "3  Feuds, flirtations and toilet talk go down amo...  \n",
       "4  In a city of coaching centers known to train I...  "
      ]
     },
     "execution_count": 49,
     "metadata": {},
     "output_type": "execute_result"
    }
   ],
   "source": [
    "#FILL IN - Inspecting the dataframe visually\n",
    "netflix_data.head()"
   ]
  },
  {
   "cell_type": "code",
   "execution_count": 54,
   "metadata": {
    "id": "bnviRCUI-bb7"
   },
   "outputs": [
    {
     "name": "stdout",
     "output_type": "stream",
     "text": [
      "object\n"
     ]
    }
   ],
   "source": [
    "#FILL IN - Inspecting the dataframe programmatically\n",
    "print(netflix_data['date_added'].dtype)"
   ]
  },
  {
   "cell_type": "markdown",
   "metadata": {},
   "source": [
    "As shown **date_added** from **netflix_data** data frame is stored as string instead of datetime, to ensure the validity of the cols we need to cast the col. into datetime"
   ]
  },
  {
   "cell_type": "markdown",
   "metadata": {
    "id": "lXhGiYyiwwKN"
   },
   "source": [
    "### Tidiness Issue 1:"
   ]
  },
  {
   "cell_type": "code",
   "execution_count": 55,
   "metadata": {
    "id": "fleC5rORI0Xl"
   },
   "outputs": [
    {
     "data": {
      "text/html": [
       "<div>\n",
       "<style scoped>\n",
       "    .dataframe tbody tr th:only-of-type {\n",
       "        vertical-align: middle;\n",
       "    }\n",
       "\n",
       "    .dataframe tbody tr th {\n",
       "        vertical-align: top;\n",
       "    }\n",
       "\n",
       "    .dataframe thead th {\n",
       "        text-align: right;\n",
       "    }\n",
       "</style>\n",
       "<table border=\"1\" class=\"dataframe\">\n",
       "  <thead>\n",
       "    <tr style=\"text-align: right;\">\n",
       "      <th></th>\n",
       "      <th>tconst</th>\n",
       "      <th>primaryTitle</th>\n",
       "      <th>startYear</th>\n",
       "      <th>rank</th>\n",
       "      <th>averageRating</th>\n",
       "      <th>numVotes</th>\n",
       "      <th>runtimeMinutes</th>\n",
       "      <th>directors</th>\n",
       "      <th>writers</th>\n",
       "      <th>genres</th>\n",
       "      <th>IMDbLink</th>\n",
       "      <th>Title_IMDb_Link</th>\n",
       "    </tr>\n",
       "  </thead>\n",
       "  <tbody>\n",
       "    <tr>\n",
       "      <th>3299</th>\n",
       "      <td>tt5177120</td>\n",
       "      <td>The Ministry of Ungentlemanly Warfare</td>\n",
       "      <td>2024</td>\n",
       "      <td>3300</td>\n",
       "      <td>6.8</td>\n",
       "      <td>146134</td>\n",
       "      <td>122</td>\n",
       "      <td>Guy Ritchie</td>\n",
       "      <td>Paul Tamasy, Eric Johnson, Arash Amel, Guy Rit...</td>\n",
       "      <td>Action, Comedy, War</td>\n",
       "      <td>&lt;a href=\"https://www.imdb.com/title/tt5177120\"...</td>\n",
       "      <td>&lt;a href=\"https://www.imdb.com/title/tt5177120\"...</td>\n",
       "    </tr>\n",
       "  </tbody>\n",
       "</table>\n",
       "</div>"
      ],
      "text/plain": [
       "         tconst                           primaryTitle  startYear  rank  \\\n",
       "3299  tt5177120  The Ministry of Ungentlemanly Warfare       2024  3300   \n",
       "\n",
       "      averageRating  numVotes  runtimeMinutes    directors  \\\n",
       "3299            6.8    146134             122  Guy Ritchie   \n",
       "\n",
       "                                                writers               genres  \\\n",
       "3299  Paul Tamasy, Eric Johnson, Arash Amel, Guy Rit...  Action, Comedy, War   \n",
       "\n",
       "                                               IMDbLink  \\\n",
       "3299  <a href=\"https://www.imdb.com/title/tt5177120\"...   \n",
       "\n",
       "                                        Title_IMDb_Link  \n",
       "3299  <a href=\"https://www.imdb.com/title/tt5177120\"...  "
      ]
     },
     "execution_count": 55,
     "metadata": {},
     "output_type": "execute_result"
    }
   ],
   "source": [
    "#FILL IN - Inspecting the dataframe visually\n",
    "most_watched_movies.sample()\n"
   ]
  },
  {
   "cell_type": "code",
   "execution_count": 56,
   "metadata": {
    "id": "BTuQw7Rbsio4"
   },
   "outputs": [
    {
     "data": {
      "text/plain": [
       "0                        Drama\n",
       "1                 Crime, Drama\n",
       "2         Action, Crime, Drama\n",
       "3    Adventure, Drama, Fantasy\n",
       "4    Biography, Drama, History\n",
       "Name: genres, dtype: object"
      ]
     },
     "execution_count": 56,
     "metadata": {},
     "output_type": "execute_result"
    }
   ],
   "source": [
    "#FILL IN - Inspecting the dataframe programmatically\n",
    "most_watched_movies['genres'].head()"
   ]
  },
  {
   "cell_type": "markdown",
   "metadata": {},
   "source": [
    "The **genres** col. in **most_watched_movies** contains more than one genre in a single cell, which violates the tidy data rule that \"each variable should be in a separate column\" The solution is to break up the col into multiple rows so that each genre is a separate value"
   ]
  },
  {
   "cell_type": "markdown",
   "metadata": {
    "id": "4ffMoRGSwzYj"
   },
   "source": [
    "### Tidiness Issue 2: "
   ]
  },
  {
   "cell_type": "code",
   "execution_count": 59,
   "metadata": {
    "id": "XUpeoqokw5Qt"
   },
   "outputs": [
    {
     "data": {
      "text/html": [
       "<div>\n",
       "<style scoped>\n",
       "    .dataframe tbody tr th:only-of-type {\n",
       "        vertical-align: middle;\n",
       "    }\n",
       "\n",
       "    .dataframe tbody tr th {\n",
       "        vertical-align: top;\n",
       "    }\n",
       "\n",
       "    .dataframe thead th {\n",
       "        text-align: right;\n",
       "    }\n",
       "</style>\n",
       "<table border=\"1\" class=\"dataframe\">\n",
       "  <thead>\n",
       "    <tr style=\"text-align: right;\">\n",
       "      <th></th>\n",
       "      <th>show_id</th>\n",
       "      <th>type</th>\n",
       "      <th>title</th>\n",
       "      <th>director</th>\n",
       "      <th>cast</th>\n",
       "      <th>country</th>\n",
       "      <th>date_added</th>\n",
       "      <th>release_year</th>\n",
       "      <th>rating</th>\n",
       "      <th>duration</th>\n",
       "      <th>listed_in</th>\n",
       "      <th>description</th>\n",
       "    </tr>\n",
       "  </thead>\n",
       "  <tbody>\n",
       "    <tr>\n",
       "      <th>3375</th>\n",
       "      <td>s3376</td>\n",
       "      <td>TV Show</td>\n",
       "      <td>Monzón: A Knockout Blow</td>\n",
       "      <td>NaN</td>\n",
       "      <td>Jorge Román, Mauricio Paniagua, Carla Quevedo,...</td>\n",
       "      <td>Argentina</td>\n",
       "      <td>October 25, 2019</td>\n",
       "      <td>2018</td>\n",
       "      <td>TV-MA</td>\n",
       "      <td>1 Season</td>\n",
       "      <td>Crime TV Shows, International TV Shows, Spanis...</td>\n",
       "      <td>This dramatization tells the story of Argentin...</td>\n",
       "    </tr>\n",
       "    <tr>\n",
       "      <th>7239</th>\n",
       "      <td>s7240</td>\n",
       "      <td>Movie</td>\n",
       "      <td>Kung Fu Hustle</td>\n",
       "      <td>Stephen Chow</td>\n",
       "      <td>Stephen Chow, Yuen Wah, Yuen Qiu, Lam Chi-chun...</td>\n",
       "      <td>Hong Kong, China, United States</td>\n",
       "      <td>April 1, 2020</td>\n",
       "      <td>2004</td>\n",
       "      <td>R</td>\n",
       "      <td>99 min</td>\n",
       "      <td>Action &amp; Adventure, Comedies, Cult Movies</td>\n",
       "      <td>Sing, a mobster in 1940s China, longs to be as...</td>\n",
       "    </tr>\n",
       "    <tr>\n",
       "      <th>5548</th>\n",
       "      <td>s5549</td>\n",
       "      <td>Movie</td>\n",
       "      <td>Life 2.0</td>\n",
       "      <td>Jason Spingarn-Koff</td>\n",
       "      <td>NaN</td>\n",
       "      <td>United States</td>\n",
       "      <td>April 1, 2017</td>\n",
       "      <td>2010</td>\n",
       "      <td>TV-MA</td>\n",
       "      <td>99 min</td>\n",
       "      <td>Documentaries</td>\n",
       "      <td>Computer users across the globe log onto the v...</td>\n",
       "    </tr>\n",
       "    <tr>\n",
       "      <th>5140</th>\n",
       "      <td>s5141</td>\n",
       "      <td>Movie</td>\n",
       "      <td>DreamWorks Home: For the Holidays</td>\n",
       "      <td>NaN</td>\n",
       "      <td>Rachel Crow, Mark Whitten, Kelly Clarkson, Ana...</td>\n",
       "      <td>United States</td>\n",
       "      <td>December 1, 2017</td>\n",
       "      <td>2017</td>\n",
       "      <td>TV-Y</td>\n",
       "      <td>46 min</td>\n",
       "      <td>Children &amp; Family Movies, Comedies, Music &amp; Mu...</td>\n",
       "      <td>Oh takes it upon himself to introduce Christma...</td>\n",
       "    </tr>\n",
       "  </tbody>\n",
       "</table>\n",
       "</div>"
      ],
      "text/plain": [
       "     show_id     type                              title             director  \\\n",
       "3375   s3376  TV Show            Monzón: A Knockout Blow                  NaN   \n",
       "7239   s7240    Movie                     Kung Fu Hustle         Stephen Chow   \n",
       "5548   s5549    Movie                           Life 2.0  Jason Spingarn-Koff   \n",
       "5140   s5141    Movie  DreamWorks Home: For the Holidays                  NaN   \n",
       "\n",
       "                                                   cast  \\\n",
       "3375  Jorge Román, Mauricio Paniagua, Carla Quevedo,...   \n",
       "7239  Stephen Chow, Yuen Wah, Yuen Qiu, Lam Chi-chun...   \n",
       "5548                                                NaN   \n",
       "5140  Rachel Crow, Mark Whitten, Kelly Clarkson, Ana...   \n",
       "\n",
       "                              country        date_added  release_year rating  \\\n",
       "3375                        Argentina  October 25, 2019          2018  TV-MA   \n",
       "7239  Hong Kong, China, United States     April 1, 2020          2004      R   \n",
       "5548                    United States     April 1, 2017          2010  TV-MA   \n",
       "5140                    United States  December 1, 2017          2017   TV-Y   \n",
       "\n",
       "      duration                                          listed_in  \\\n",
       "3375  1 Season  Crime TV Shows, International TV Shows, Spanis...   \n",
       "7239    99 min          Action & Adventure, Comedies, Cult Movies   \n",
       "5548    99 min                                      Documentaries   \n",
       "5140    46 min  Children & Family Movies, Comedies, Music & Mu...   \n",
       "\n",
       "                                            description  \n",
       "3375  This dramatization tells the story of Argentin...  \n",
       "7239  Sing, a mobster in 1940s China, longs to be as...  \n",
       "5548  Computer users across the globe log onto the v...  \n",
       "5140  Oh takes it upon himself to introduce Christma...  "
      ]
     },
     "execution_count": 59,
     "metadata": {},
     "output_type": "execute_result"
    }
   ],
   "source": [
    "#FILL IN - Inspecting the dataframe visually\n",
    "netflix_data.sample(4)"
   ]
  },
  {
   "cell_type": "code",
   "execution_count": 61,
   "metadata": {
    "id": "c8JK4DoXxtFA"
   },
   "outputs": [
    {
     "data": {
      "text/plain": [
       "0       90 min\n",
       "1    2 Seasons\n",
       "2     1 Season\n",
       "3     1 Season\n",
       "4    2 Seasons\n",
       "5     1 Season\n",
       "6       91 min\n",
       "7      125 min\n",
       "8    9 Seasons\n",
       "9      104 min\n",
       "Name: duration, dtype: object"
      ]
     },
     "execution_count": 61,
     "metadata": {},
     "output_type": "execute_result"
    }
   ],
   "source": [
    "#FILL IN - Inspecting the dataframe programmatically\n",
    "netflix_data['duration'].head(10)"
   ]
  },
  {
   "cell_type": "markdown",
   "metadata": {},
   "source": [
    "The **duration** col in **netflix_data** combines a numeric value and a unit such as (\"90 min\" or \"2 Seasons\") two variables in one column. The solution is to separate the column into **duration_value** (numeric value) and **duration_unit** (unit of measurement: minutes or seasons)"
   ]
  },
  {
   "cell_type": "markdown",
   "metadata": {
    "id": "D6gmLnBttpCh"
   },
   "source": [
    "## 3. Clean data\n",
    "Clean the data to solve the 4 issues corresponding to data quality and tidiness found in the assessing step. **Make sure you include justifications for your cleaning decisions.**\n",
    "\n",
    "After the cleaning for each issue, please use **either** the visually or programatical method to validate the cleaning was succesful.\n",
    "\n",
    "At this stage, you are also expected to remove variables that are unnecessary for your analysis and combine your datasets. Depending on your datasets, you may choose to perform variable combination and elimination before or after the cleaning stage. Your dataset must have **at least** 4 variables after combining the data."
   ]
  },
  {
   "cell_type": "code",
   "execution_count": 62,
   "metadata": {},
   "outputs": [],
   "source": [
    "# FILL IN - Make copies of the datasets to ensure the raw dataframes \n",
    "# are not impacted\n",
    "most_watched_copy=most_watched_movies.copy()\n",
    "netflix_copy=netflix_data.copy()"
   ]
  },
  {
   "cell_type": "markdown",
   "metadata": {
    "id": "FmFhN52Yyn3l"
   },
   "source": [
    "### **Quality Issue 1:Missing values in writers**"
   ]
  },
  {
   "cell_type": "code",
   "execution_count": 72,
   "metadata": {
    "id": "9UejDWrNMW4a"
   },
   "outputs": [],
   "source": [
    "# FILL IN - Apply the cleaning strategy\n",
    "most_watched_copy= most_watched_copy.dropna(subset=['writers'])"
   ]
  },
  {
   "cell_type": "code",
   "execution_count": 74,
   "metadata": {
    "id": "oUBee-LPytkv"
   },
   "outputs": [
    {
     "name": "stdout",
     "output_type": "stream",
     "text": [
      "As we can see this is the null values after: 0\n"
     ]
    }
   ],
   "source": [
    "# FILL IN - Validate the cleaning was successful\n",
    "after_writers=most_watched_copy['writers'].isna().sum()\n",
    "print(\"As we can see this is the null values after:\" ,after_writers)"
   ]
  },
  {
   "cell_type": "markdown",
   "metadata": {},
   "source": [
    "The percentage of missing values is very small, dropping is safer and prevents any noise with imputed values"
   ]
  },
  {
   "cell_type": "markdown",
   "metadata": {
    "id": "n_DAUbJrymBL"
   },
   "source": [
    "### **Quality Issue 2: date_added stored as string**"
   ]
  },
  {
   "cell_type": "code",
   "execution_count": 75,
   "metadata": {
    "id": "5Yfb-Yu5MTuE"
   },
   "outputs": [],
   "source": [
    "#FILL IN - Apply the cleaning strategy\n",
    "netflix_copy['date_added'] = pd.to_datetime(netflix_copy['date_added'], errors='coerce')"
   ]
  },
  {
   "cell_type": "code",
   "execution_count": 79,
   "metadata": {
    "id": "ionB2sRaMUmY"
   },
   "outputs": [
    {
     "name": "stdout",
     "output_type": "stream",
     "text": [
      "datetime64[ns]\n"
     ]
    },
    {
     "data": {
      "text/html": [
       "<div>\n",
       "<style scoped>\n",
       "    .dataframe tbody tr th:only-of-type {\n",
       "        vertical-align: middle;\n",
       "    }\n",
       "\n",
       "    .dataframe tbody tr th {\n",
       "        vertical-align: top;\n",
       "    }\n",
       "\n",
       "    .dataframe thead th {\n",
       "        text-align: right;\n",
       "    }\n",
       "</style>\n",
       "<table border=\"1\" class=\"dataframe\">\n",
       "  <thead>\n",
       "    <tr style=\"text-align: right;\">\n",
       "      <th></th>\n",
       "      <th>show_id</th>\n",
       "      <th>type</th>\n",
       "      <th>title</th>\n",
       "      <th>director</th>\n",
       "      <th>cast</th>\n",
       "      <th>country</th>\n",
       "      <th>date_added</th>\n",
       "      <th>release_year</th>\n",
       "      <th>rating</th>\n",
       "      <th>duration</th>\n",
       "      <th>listed_in</th>\n",
       "      <th>description</th>\n",
       "    </tr>\n",
       "  </thead>\n",
       "  <tbody>\n",
       "    <tr>\n",
       "      <th>6508</th>\n",
       "      <td>s6509</td>\n",
       "      <td>TV Show</td>\n",
       "      <td>Club Friday To Be Continued - My Beautiful Tomboy</td>\n",
       "      <td>NaN</td>\n",
       "      <td>Puttichai Kasetsin, Lalana Kongtoranin</td>\n",
       "      <td>NaN</td>\n",
       "      <td>2018-04-13</td>\n",
       "      <td>2016</td>\n",
       "      <td>TV-MA</td>\n",
       "      <td>1 Season</td>\n",
       "      <td>International TV Shows, Romantic TV Shows, TV ...</td>\n",
       "      <td>A change in sexual identity complicates young ...</td>\n",
       "    </tr>\n",
       "  </tbody>\n",
       "</table>\n",
       "</div>"
      ],
      "text/plain": [
       "     show_id     type                                              title  \\\n",
       "6508   s6509  TV Show  Club Friday To Be Continued - My Beautiful Tomboy   \n",
       "\n",
       "     director                                    cast country date_added  \\\n",
       "6508      NaN  Puttichai Kasetsin, Lalana Kongtoranin     NaN 2018-04-13   \n",
       "\n",
       "      release_year rating  duration  \\\n",
       "6508          2016  TV-MA  1 Season   \n",
       "\n",
       "                                              listed_in  \\\n",
       "6508  International TV Shows, Romantic TV Shows, TV ...   \n",
       "\n",
       "                                            description  \n",
       "6508  A change in sexual identity complicates young ...  "
      ]
     },
     "execution_count": 79,
     "metadata": {},
     "output_type": "execute_result"
    }
   ],
   "source": [
    "#FILL IN - Validate the cleaning was successful\n",
    "print(netflix_copy['date_added'].dtype)\n",
    "netflix_copy.sample()"
   ]
  },
  {
   "cell_type": "markdown",
   "metadata": {},
   "source": [
    "Dates stored as strings can't be used in time based analysis. casting allows filtering by year or month"
   ]
  },
  {
   "cell_type": "markdown",
   "metadata": {
    "id": "bIUrrfSNyOPR"
   },
   "source": [
    "### **Tidiness Issue 1: genres contains multiple values in one cell**"
   ]
  },
  {
   "cell_type": "code",
   "execution_count": 80,
   "metadata": {
    "id": "fib0zAm333bn"
   },
   "outputs": [],
   "source": [
    "#FILL IN - Apply the cleaning strategy\n",
    "most_watched_copy['genres']= most_watched_copy['genres'].str.split(',')\n",
    "most_watched_copy= most_watched_copy.explode('genres')"
   ]
  },
  {
   "cell_type": "code",
   "execution_count": 81,
   "metadata": {
    "id": "yhrnUGY_Nk8B"
   },
   "outputs": [
    {
     "data": {
      "text/html": [
       "<div>\n",
       "<style scoped>\n",
       "    .dataframe tbody tr th:only-of-type {\n",
       "        vertical-align: middle;\n",
       "    }\n",
       "\n",
       "    .dataframe tbody tr th {\n",
       "        vertical-align: top;\n",
       "    }\n",
       "\n",
       "    .dataframe thead th {\n",
       "        text-align: right;\n",
       "    }\n",
       "</style>\n",
       "<table border=\"1\" class=\"dataframe\">\n",
       "  <thead>\n",
       "    <tr style=\"text-align: right;\">\n",
       "      <th></th>\n",
       "      <th>tconst</th>\n",
       "      <th>primaryTitle</th>\n",
       "      <th>startYear</th>\n",
       "      <th>rank</th>\n",
       "      <th>averageRating</th>\n",
       "      <th>numVotes</th>\n",
       "      <th>runtimeMinutes</th>\n",
       "      <th>directors</th>\n",
       "      <th>writers</th>\n",
       "      <th>genres</th>\n",
       "      <th>IMDbLink</th>\n",
       "      <th>Title_IMDb_Link</th>\n",
       "    </tr>\n",
       "  </thead>\n",
       "  <tbody>\n",
       "    <tr>\n",
       "      <th>0</th>\n",
       "      <td>tt0111161</td>\n",
       "      <td>The Shawshank Redemption</td>\n",
       "      <td>1994</td>\n",
       "      <td>1</td>\n",
       "      <td>9.3</td>\n",
       "      <td>3103987</td>\n",
       "      <td>142</td>\n",
       "      <td>Frank Darabont</td>\n",
       "      <td>Stephen King, Frank Darabont</td>\n",
       "      <td>Drama</td>\n",
       "      <td>&lt;a href=\"https://www.imdb.com/title/tt0111161\"...</td>\n",
       "      <td>&lt;a href=\"https://www.imdb.com/title/tt0111161\"...</td>\n",
       "    </tr>\n",
       "    <tr>\n",
       "      <th>1</th>\n",
       "      <td>tt0068646</td>\n",
       "      <td>The Godfather</td>\n",
       "      <td>1972</td>\n",
       "      <td>2</td>\n",
       "      <td>9.2</td>\n",
       "      <td>2163304</td>\n",
       "      <td>175</td>\n",
       "      <td>Francis Ford Coppola</td>\n",
       "      <td>Mario Puzo, Francis Ford Coppola</td>\n",
       "      <td>Crime</td>\n",
       "      <td>&lt;a href=\"https://www.imdb.com/title/tt0068646\"...</td>\n",
       "      <td>&lt;a href=\"https://www.imdb.com/title/tt0068646\"...</td>\n",
       "    </tr>\n",
       "  </tbody>\n",
       "</table>\n",
       "</div>"
      ],
      "text/plain": [
       "      tconst              primaryTitle  startYear  rank  averageRating  \\\n",
       "0  tt0111161  The Shawshank Redemption       1994     1            9.3   \n",
       "1  tt0068646             The Godfather       1972     2            9.2   \n",
       "\n",
       "   numVotes  runtimeMinutes             directors  \\\n",
       "0   3103987             142        Frank Darabont   \n",
       "1   2163304             175  Francis Ford Coppola   \n",
       "\n",
       "                            writers genres  \\\n",
       "0      Stephen King, Frank Darabont  Drama   \n",
       "1  Mario Puzo, Francis Ford Coppola  Crime   \n",
       "\n",
       "                                            IMDbLink  \\\n",
       "0  <a href=\"https://www.imdb.com/title/tt0111161\"...   \n",
       "1  <a href=\"https://www.imdb.com/title/tt0068646\"...   \n",
       "\n",
       "                                     Title_IMDb_Link  \n",
       "0  <a href=\"https://www.imdb.com/title/tt0111161\"...  \n",
       "1  <a href=\"https://www.imdb.com/title/tt0068646\"...  "
      ]
     },
     "execution_count": 81,
     "metadata": {},
     "output_type": "execute_result"
    }
   ],
   "source": [
    "#FILL IN - Validate the cleaning was successful\n",
    "most_watched_copy.head(2)"
   ]
  },
  {
   "cell_type": "markdown",
   "metadata": {},
   "source": [
    "Each genre should be its own row, exploding ensures each observation has one value"
   ]
  },
  {
   "cell_type": "markdown",
   "metadata": {
    "id": "o51Bt8kwyTzk"
   },
   "source": [
    "### **Tidiness Issue 2: duration mixes value and unit**"
   ]
  },
  {
   "cell_type": "code",
   "execution_count": 82,
   "metadata": {
    "id": "7zW8O5yx4Y9O"
   },
   "outputs": [],
   "source": [
    "#FILL IN - Apply the cleaning strategy\n",
    "netflix_copy['duration_value'] = netflix_copy['duration'].str.extract(r'(\\d+)').astype(float)\n",
    "netflix_copy['duration_unit'] = netflix_copy['duration'].str.extract(r'([a-zA-Z]+)')"
   ]
  },
  {
   "cell_type": "code",
   "execution_count": 83,
   "metadata": {
    "id": "q6I_Sr7lxXi5"
   },
   "outputs": [
    {
     "data": {
      "text/html": [
       "<div>\n",
       "<style scoped>\n",
       "    .dataframe tbody tr th:only-of-type {\n",
       "        vertical-align: middle;\n",
       "    }\n",
       "\n",
       "    .dataframe tbody tr th {\n",
       "        vertical-align: top;\n",
       "    }\n",
       "\n",
       "    .dataframe thead th {\n",
       "        text-align: right;\n",
       "    }\n",
       "</style>\n",
       "<table border=\"1\" class=\"dataframe\">\n",
       "  <thead>\n",
       "    <tr style=\"text-align: right;\">\n",
       "      <th></th>\n",
       "      <th>title</th>\n",
       "      <th>duration</th>\n",
       "      <th>duration_value</th>\n",
       "      <th>duration_unit</th>\n",
       "    </tr>\n",
       "  </thead>\n",
       "  <tbody>\n",
       "    <tr>\n",
       "      <th>0</th>\n",
       "      <td>Dick Johnson Is Dead</td>\n",
       "      <td>90 min</td>\n",
       "      <td>90.0</td>\n",
       "      <td>min</td>\n",
       "    </tr>\n",
       "    <tr>\n",
       "      <th>1</th>\n",
       "      <td>Blood &amp; Water</td>\n",
       "      <td>2 Seasons</td>\n",
       "      <td>2.0</td>\n",
       "      <td>Seasons</td>\n",
       "    </tr>\n",
       "    <tr>\n",
       "      <th>2</th>\n",
       "      <td>Ganglands</td>\n",
       "      <td>1 Season</td>\n",
       "      <td>1.0</td>\n",
       "      <td>Season</td>\n",
       "    </tr>\n",
       "    <tr>\n",
       "      <th>3</th>\n",
       "      <td>Jailbirds New Orleans</td>\n",
       "      <td>1 Season</td>\n",
       "      <td>1.0</td>\n",
       "      <td>Season</td>\n",
       "    </tr>\n",
       "    <tr>\n",
       "      <th>4</th>\n",
       "      <td>Kota Factory</td>\n",
       "      <td>2 Seasons</td>\n",
       "      <td>2.0</td>\n",
       "      <td>Seasons</td>\n",
       "    </tr>\n",
       "    <tr>\n",
       "      <th>5</th>\n",
       "      <td>Midnight Mass</td>\n",
       "      <td>1 Season</td>\n",
       "      <td>1.0</td>\n",
       "      <td>Season</td>\n",
       "    </tr>\n",
       "    <tr>\n",
       "      <th>6</th>\n",
       "      <td>My Little Pony: A New Generation</td>\n",
       "      <td>91 min</td>\n",
       "      <td>91.0</td>\n",
       "      <td>min</td>\n",
       "    </tr>\n",
       "    <tr>\n",
       "      <th>7</th>\n",
       "      <td>Sankofa</td>\n",
       "      <td>125 min</td>\n",
       "      <td>125.0</td>\n",
       "      <td>min</td>\n",
       "    </tr>\n",
       "    <tr>\n",
       "      <th>8</th>\n",
       "      <td>The Great British Baking Show</td>\n",
       "      <td>9 Seasons</td>\n",
       "      <td>9.0</td>\n",
       "      <td>Seasons</td>\n",
       "    </tr>\n",
       "    <tr>\n",
       "      <th>9</th>\n",
       "      <td>The Starling</td>\n",
       "      <td>104 min</td>\n",
       "      <td>104.0</td>\n",
       "      <td>min</td>\n",
       "    </tr>\n",
       "  </tbody>\n",
       "</table>\n",
       "</div>"
      ],
      "text/plain": [
       "                              title   duration  duration_value duration_unit\n",
       "0              Dick Johnson Is Dead     90 min            90.0           min\n",
       "1                     Blood & Water  2 Seasons             2.0       Seasons\n",
       "2                         Ganglands   1 Season             1.0        Season\n",
       "3             Jailbirds New Orleans   1 Season             1.0        Season\n",
       "4                      Kota Factory  2 Seasons             2.0       Seasons\n",
       "5                     Midnight Mass   1 Season             1.0        Season\n",
       "6  My Little Pony: A New Generation     91 min            91.0           min\n",
       "7                           Sankofa    125 min           125.0           min\n",
       "8     The Great British Baking Show  9 Seasons             9.0       Seasons\n",
       "9                      The Starling    104 min           104.0           min"
      ]
     },
     "execution_count": 83,
     "metadata": {},
     "output_type": "execute_result"
    }
   ],
   "source": [
    "#FILL IN - Validate the cleaning was successful\n",
    "netflix_copy[['title','duration','duration_value','duration_unit']].head(10)"
   ]
  },
  {
   "cell_type": "markdown",
   "metadata": {},
   "source": [
    "duration contains two vars in one col. separating them allows easier analysis such as average movie length etc.."
   ]
  },
  {
   "cell_type": "markdown",
   "metadata": {},
   "source": [
    "### **Remove unnecessary variables and combine datasets**\n",
    "\n",
    "Depending on the datasets, you can also peform the combination before the cleaning steps."
   ]
  },
  {
   "cell_type": "code",
   "execution_count": 104,
   "metadata": {},
   "outputs": [
    {
     "data": {
      "text/plain": [
       "0"
      ]
     },
     "execution_count": 104,
     "metadata": {},
     "output_type": "execute_result"
    }
   ],
   "source": [
    "most_watched_copy['title_clean'] = most_watched_copy['primaryTitle'].str.lower().str.strip()\n",
    "netflix_copy['title_clean'] = netflix_copy['title'].str.lower().str.strip()\n",
    "netflix_copy= netflix_copy[netflix_copy['type'] == 'Movie']\n",
    "merged_df1= pd.merge(most_watched_copy,netflix_copy, on='title_clean',how= 'inner')\n",
    "merged_df1.duplicated().sum() # to ensure everything is neat"
   ]
  },
  {
   "cell_type": "code",
   "execution_count": 124,
   "metadata": {},
   "outputs": [
    {
     "name": "stdout",
     "output_type": "stream",
     "text": [
      "<class 'pandas.core.frame.DataFrame'>\n",
      "RangeIndex: 2229 entries, 0 to 2228\n",
      "Data columns (total 18 columns):\n",
      " #   Column          Non-Null Count  Dtype         \n",
      "---  ------          --------------  -----         \n",
      " 0   tconst          2229 non-null   object        \n",
      " 1   rank            2229 non-null   int64         \n",
      " 2   averageRating   2229 non-null   float64       \n",
      " 3   numVotes        2229 non-null   int64         \n",
      " 4   runtimeMinutes  2229 non-null   int64         \n",
      " 5   directors       2229 non-null   object        \n",
      " 6   writers         2229 non-null   object        \n",
      " 7   genres          2229 non-null   object        \n",
      " 8   title_clean     2229 non-null   object        \n",
      " 9   show_id         2229 non-null   object        \n",
      " 10  type            2229 non-null   object        \n",
      " 11  country         2203 non-null   object        \n",
      " 12  date_added      2229 non-null   datetime64[ns]\n",
      " 13  rating          2229 non-null   object        \n",
      " 14  duration        2229 non-null   object        \n",
      " 15  listed_in       2229 non-null   object        \n",
      " 16  duration_value  2229 non-null   float64       \n",
      " 17  duration_unit   2229 non-null   object        \n",
      "dtypes: datetime64[ns](1), float64(2), int64(3), object(12)\n",
      "memory usage: 313.6+ KB\n"
     ]
    },
    {
     "data": {
      "text/html": [
       "<div>\n",
       "<style scoped>\n",
       "    .dataframe tbody tr th:only-of-type {\n",
       "        vertical-align: middle;\n",
       "    }\n",
       "\n",
       "    .dataframe tbody tr th {\n",
       "        vertical-align: top;\n",
       "    }\n",
       "\n",
       "    .dataframe thead th {\n",
       "        text-align: right;\n",
       "    }\n",
       "</style>\n",
       "<table border=\"1\" class=\"dataframe\">\n",
       "  <thead>\n",
       "    <tr style=\"text-align: right;\">\n",
       "      <th></th>\n",
       "      <th>tconst</th>\n",
       "      <th>rank</th>\n",
       "      <th>averageRating</th>\n",
       "      <th>numVotes</th>\n",
       "      <th>runtimeMinutes</th>\n",
       "      <th>directors</th>\n",
       "      <th>writers</th>\n",
       "      <th>genres</th>\n",
       "      <th>title_clean</th>\n",
       "      <th>show_id</th>\n",
       "      <th>type</th>\n",
       "      <th>country</th>\n",
       "      <th>date_added</th>\n",
       "      <th>rating</th>\n",
       "      <th>duration</th>\n",
       "      <th>listed_in</th>\n",
       "      <th>duration_value</th>\n",
       "      <th>duration_unit</th>\n",
       "    </tr>\n",
       "  </thead>\n",
       "  <tbody>\n",
       "    <tr>\n",
       "      <th>0</th>\n",
       "      <td>tt0167260</td>\n",
       "      <td>4</td>\n",
       "      <td>9.0</td>\n",
       "      <td>2109665</td>\n",
       "      <td>201</td>\n",
       "      <td>Peter Jackson</td>\n",
       "      <td>J.R.R. Tolkien, Fran Walsh, Philippa Boyens, P...</td>\n",
       "      <td>Adventure</td>\n",
       "      <td>the lord of the rings: the return of the king</td>\n",
       "      <td>s8405</td>\n",
       "      <td>Movie</td>\n",
       "      <td>New Zealand, United States</td>\n",
       "      <td>2020-01-01</td>\n",
       "      <td>PG-13</td>\n",
       "      <td>201 min</td>\n",
       "      <td>Action &amp; Adventure, Sci-Fi &amp; Fantasy</td>\n",
       "      <td>201.0</td>\n",
       "      <td>min</td>\n",
       "    </tr>\n",
       "    <tr>\n",
       "      <th>1</th>\n",
       "      <td>tt0167260</td>\n",
       "      <td>4</td>\n",
       "      <td>9.0</td>\n",
       "      <td>2109665</td>\n",
       "      <td>201</td>\n",
       "      <td>Peter Jackson</td>\n",
       "      <td>J.R.R. Tolkien, Fran Walsh, Philippa Boyens, P...</td>\n",
       "      <td>Drama</td>\n",
       "      <td>the lord of the rings: the return of the king</td>\n",
       "      <td>s8405</td>\n",
       "      <td>Movie</td>\n",
       "      <td>New Zealand, United States</td>\n",
       "      <td>2020-01-01</td>\n",
       "      <td>PG-13</td>\n",
       "      <td>201 min</td>\n",
       "      <td>Action &amp; Adventure, Sci-Fi &amp; Fantasy</td>\n",
       "      <td>201.0</td>\n",
       "      <td>min</td>\n",
       "    </tr>\n",
       "    <tr>\n",
       "      <th>2</th>\n",
       "      <td>tt0167260</td>\n",
       "      <td>4</td>\n",
       "      <td>9.0</td>\n",
       "      <td>2109665</td>\n",
       "      <td>201</td>\n",
       "      <td>Peter Jackson</td>\n",
       "      <td>J.R.R. Tolkien, Fran Walsh, Philippa Boyens, P...</td>\n",
       "      <td>Fantasy</td>\n",
       "      <td>the lord of the rings: the return of the king</td>\n",
       "      <td>s8405</td>\n",
       "      <td>Movie</td>\n",
       "      <td>New Zealand, United States</td>\n",
       "      <td>2020-01-01</td>\n",
       "      <td>PG-13</td>\n",
       "      <td>201 min</td>\n",
       "      <td>Action &amp; Adventure, Sci-Fi &amp; Fantasy</td>\n",
       "      <td>201.0</td>\n",
       "      <td>min</td>\n",
       "    </tr>\n",
       "    <tr>\n",
       "      <th>3</th>\n",
       "      <td>tt0108052</td>\n",
       "      <td>5</td>\n",
       "      <td>9.0</td>\n",
       "      <td>1547638</td>\n",
       "      <td>195</td>\n",
       "      <td>Steven Spielberg</td>\n",
       "      <td>Thomas Keneally, Steven Zaillian</td>\n",
       "      <td>Biography</td>\n",
       "      <td>schindler's list</td>\n",
       "      <td>s7958</td>\n",
       "      <td>Movie</td>\n",
       "      <td>United States</td>\n",
       "      <td>2018-04-01</td>\n",
       "      <td>R</td>\n",
       "      <td>195 min</td>\n",
       "      <td>Classic Movies, Dramas</td>\n",
       "      <td>195.0</td>\n",
       "      <td>min</td>\n",
       "    </tr>\n",
       "    <tr>\n",
       "      <th>4</th>\n",
       "      <td>tt0108052</td>\n",
       "      <td>5</td>\n",
       "      <td>9.0</td>\n",
       "      <td>1547638</td>\n",
       "      <td>195</td>\n",
       "      <td>Steven Spielberg</td>\n",
       "      <td>Thomas Keneally, Steven Zaillian</td>\n",
       "      <td>Drama</td>\n",
       "      <td>schindler's list</td>\n",
       "      <td>s7958</td>\n",
       "      <td>Movie</td>\n",
       "      <td>United States</td>\n",
       "      <td>2018-04-01</td>\n",
       "      <td>R</td>\n",
       "      <td>195 min</td>\n",
       "      <td>Classic Movies, Dramas</td>\n",
       "      <td>195.0</td>\n",
       "      <td>min</td>\n",
       "    </tr>\n",
       "    <tr>\n",
       "      <th>...</th>\n",
       "      <td>...</td>\n",
       "      <td>...</td>\n",
       "      <td>...</td>\n",
       "      <td>...</td>\n",
       "      <td>...</td>\n",
       "      <td>...</td>\n",
       "      <td>...</td>\n",
       "      <td>...</td>\n",
       "      <td>...</td>\n",
       "      <td>...</td>\n",
       "      <td>...</td>\n",
       "      <td>...</td>\n",
       "      <td>...</td>\n",
       "      <td>...</td>\n",
       "      <td>...</td>\n",
       "      <td>...</td>\n",
       "      <td>...</td>\n",
       "      <td>...</td>\n",
       "    </tr>\n",
       "    <tr>\n",
       "      <th>2224</th>\n",
       "      <td>tt4225622</td>\n",
       "      <td>4990</td>\n",
       "      <td>6.4</td>\n",
       "      <td>118297</td>\n",
       "      <td>85</td>\n",
       "      <td>McG</td>\n",
       "      <td>Brian Duffield</td>\n",
       "      <td>Horror</td>\n",
       "      <td>the babysitter</td>\n",
       "      <td>s5227</td>\n",
       "      <td>Movie</td>\n",
       "      <td>United States</td>\n",
       "      <td>2017-10-13</td>\n",
       "      <td>TV-MA</td>\n",
       "      <td>85 min</td>\n",
       "      <td>Comedies, Horror Movies</td>\n",
       "      <td>85.0</td>\n",
       "      <td>min</td>\n",
       "    </tr>\n",
       "    <tr>\n",
       "      <th>2225</th>\n",
       "      <td>tt1007029</td>\n",
       "      <td>4998</td>\n",
       "      <td>6.4</td>\n",
       "      <td>115822</td>\n",
       "      <td>105</td>\n",
       "      <td>Phyllida Lloyd</td>\n",
       "      <td>Abi Morgan</td>\n",
       "      <td>Biography</td>\n",
       "      <td>the iron lady</td>\n",
       "      <td>s8370</td>\n",
       "      <td>Movie</td>\n",
       "      <td>United Kingdom, France</td>\n",
       "      <td>2019-07-07</td>\n",
       "      <td>PG-13</td>\n",
       "      <td>105 min</td>\n",
       "      <td>Dramas, International Movies</td>\n",
       "      <td>105.0</td>\n",
       "      <td>min</td>\n",
       "    </tr>\n",
       "    <tr>\n",
       "      <th>2226</th>\n",
       "      <td>tt1007029</td>\n",
       "      <td>4998</td>\n",
       "      <td>6.4</td>\n",
       "      <td>115822</td>\n",
       "      <td>105</td>\n",
       "      <td>Phyllida Lloyd</td>\n",
       "      <td>Abi Morgan</td>\n",
       "      <td>Drama</td>\n",
       "      <td>the iron lady</td>\n",
       "      <td>s8370</td>\n",
       "      <td>Movie</td>\n",
       "      <td>United Kingdom, France</td>\n",
       "      <td>2019-07-07</td>\n",
       "      <td>PG-13</td>\n",
       "      <td>105 min</td>\n",
       "      <td>Dramas, International Movies</td>\n",
       "      <td>105.0</td>\n",
       "      <td>min</td>\n",
       "    </tr>\n",
       "    <tr>\n",
       "      <th>2227</th>\n",
       "      <td>tt1216492</td>\n",
       "      <td>4999</td>\n",
       "      <td>6.4</td>\n",
       "      <td>114699</td>\n",
       "      <td>100</td>\n",
       "      <td>Anand Tucker</td>\n",
       "      <td>Deborah Kaplan, Harry Elfont</td>\n",
       "      <td>Comedy</td>\n",
       "      <td>leap year</td>\n",
       "      <td>s7275</td>\n",
       "      <td>Movie</td>\n",
       "      <td>United States, Ireland</td>\n",
       "      <td>2019-11-15</td>\n",
       "      <td>PG</td>\n",
       "      <td>100 min</td>\n",
       "      <td>Comedies, Romantic Movies</td>\n",
       "      <td>100.0</td>\n",
       "      <td>min</td>\n",
       "    </tr>\n",
       "    <tr>\n",
       "      <th>2228</th>\n",
       "      <td>tt1216492</td>\n",
       "      <td>4999</td>\n",
       "      <td>6.4</td>\n",
       "      <td>114699</td>\n",
       "      <td>100</td>\n",
       "      <td>Anand Tucker</td>\n",
       "      <td>Deborah Kaplan, Harry Elfont</td>\n",
       "      <td>Romance</td>\n",
       "      <td>leap year</td>\n",
       "      <td>s7275</td>\n",
       "      <td>Movie</td>\n",
       "      <td>United States, Ireland</td>\n",
       "      <td>2019-11-15</td>\n",
       "      <td>PG</td>\n",
       "      <td>100 min</td>\n",
       "      <td>Comedies, Romantic Movies</td>\n",
       "      <td>100.0</td>\n",
       "      <td>min</td>\n",
       "    </tr>\n",
       "  </tbody>\n",
       "</table>\n",
       "<p>2229 rows × 18 columns</p>\n",
       "</div>"
      ],
      "text/plain": [
       "         tconst  rank  averageRating  numVotes  runtimeMinutes  \\\n",
       "0     tt0167260     4            9.0   2109665             201   \n",
       "1     tt0167260     4            9.0   2109665             201   \n",
       "2     tt0167260     4            9.0   2109665             201   \n",
       "3     tt0108052     5            9.0   1547638             195   \n",
       "4     tt0108052     5            9.0   1547638             195   \n",
       "...         ...   ...            ...       ...             ...   \n",
       "2224  tt4225622  4990            6.4    118297              85   \n",
       "2225  tt1007029  4998            6.4    115822             105   \n",
       "2226  tt1007029  4998            6.4    115822             105   \n",
       "2227  tt1216492  4999            6.4    114699             100   \n",
       "2228  tt1216492  4999            6.4    114699             100   \n",
       "\n",
       "             directors                                            writers  \\\n",
       "0        Peter Jackson  J.R.R. Tolkien, Fran Walsh, Philippa Boyens, P...   \n",
       "1        Peter Jackson  J.R.R. Tolkien, Fran Walsh, Philippa Boyens, P...   \n",
       "2        Peter Jackson  J.R.R. Tolkien, Fran Walsh, Philippa Boyens, P...   \n",
       "3     Steven Spielberg                   Thomas Keneally, Steven Zaillian   \n",
       "4     Steven Spielberg                   Thomas Keneally, Steven Zaillian   \n",
       "...                ...                                                ...   \n",
       "2224               McG                                     Brian Duffield   \n",
       "2225    Phyllida Lloyd                                         Abi Morgan   \n",
       "2226    Phyllida Lloyd                                         Abi Morgan   \n",
       "2227      Anand Tucker                       Deborah Kaplan, Harry Elfont   \n",
       "2228      Anand Tucker                       Deborah Kaplan, Harry Elfont   \n",
       "\n",
       "         genres                                    title_clean show_id   type  \\\n",
       "0     Adventure  the lord of the rings: the return of the king   s8405  Movie   \n",
       "1         Drama  the lord of the rings: the return of the king   s8405  Movie   \n",
       "2       Fantasy  the lord of the rings: the return of the king   s8405  Movie   \n",
       "3     Biography                               schindler's list   s7958  Movie   \n",
       "4         Drama                               schindler's list   s7958  Movie   \n",
       "...         ...                                            ...     ...    ...   \n",
       "2224     Horror                                 the babysitter   s5227  Movie   \n",
       "2225  Biography                                  the iron lady   s8370  Movie   \n",
       "2226      Drama                                  the iron lady   s8370  Movie   \n",
       "2227     Comedy                                      leap year   s7275  Movie   \n",
       "2228    Romance                                      leap year   s7275  Movie   \n",
       "\n",
       "                         country date_added rating duration  \\\n",
       "0     New Zealand, United States 2020-01-01  PG-13  201 min   \n",
       "1     New Zealand, United States 2020-01-01  PG-13  201 min   \n",
       "2     New Zealand, United States 2020-01-01  PG-13  201 min   \n",
       "3                  United States 2018-04-01      R  195 min   \n",
       "4                  United States 2018-04-01      R  195 min   \n",
       "...                          ...        ...    ...      ...   \n",
       "2224               United States 2017-10-13  TV-MA   85 min   \n",
       "2225      United Kingdom, France 2019-07-07  PG-13  105 min   \n",
       "2226      United Kingdom, France 2019-07-07  PG-13  105 min   \n",
       "2227      United States, Ireland 2019-11-15     PG  100 min   \n",
       "2228      United States, Ireland 2019-11-15     PG  100 min   \n",
       "\n",
       "                                 listed_in  duration_value duration_unit  \n",
       "0     Action & Adventure, Sci-Fi & Fantasy           201.0           min  \n",
       "1     Action & Adventure, Sci-Fi & Fantasy           201.0           min  \n",
       "2     Action & Adventure, Sci-Fi & Fantasy           201.0           min  \n",
       "3                   Classic Movies, Dramas           195.0           min  \n",
       "4                   Classic Movies, Dramas           195.0           min  \n",
       "...                                    ...             ...           ...  \n",
       "2224               Comedies, Horror Movies            85.0           min  \n",
       "2225          Dramas, International Movies           105.0           min  \n",
       "2226          Dramas, International Movies           105.0           min  \n",
       "2227             Comedies, Romantic Movies           100.0           min  \n",
       "2228             Comedies, Romantic Movies           100.0           min  \n",
       "\n",
       "[2229 rows x 18 columns]"
      ]
     },
     "execution_count": 124,
     "metadata": {},
     "output_type": "execute_result"
    }
   ],
   "source": [
    "merged_df1.info()\n",
    "merged_df1= merged_df1.drop(columns=['primaryTitle','description','Title_IMDb_Link','IMDbLink','title',\n",
    "                       'director','cast','release_year','description','startYear'])\n",
    "\n",
    "merged_df1['genres'] = merged_df1['genres'].str.strip()\n",
    "merged_df1"
   ]
  },
  {
   "cell_type": "markdown",
   "metadata": {
    "id": "F42urHuzttjF"
   },
   "source": [
    "## 4. Update your data store\n",
    "Update your local database/data store with the cleaned data, following best practices for storing your cleaned data:\n",
    "\n",
    "- Must maintain different instances / versions of data (raw and cleaned data)\n",
    "- Must name the dataset files informatively\n",
    "- Ensure both the raw and cleaned data is saved to your database/data store"
   ]
  },
  {
   "cell_type": "code",
   "execution_count": 110,
   "metadata": {
    "id": "V3uay7EJUV_L"
   },
   "outputs": [],
   "source": [
    "import os\n",
    "os.makedirs('date_store/raw',exist_ok=True)\n",
    "os.makedirs('date_store/clean',exist_ok=True)\n",
    "\n",
    "#saving raw data\n",
    "most_watched_movies.to_csv('date_store/raw/most_watched_movies_2025-10-04.csv',index=False)\n",
    "netflix_data.to_csv('date_store/raw/netflix_data_2025-10-04.csv',index=False)\n",
    "\n",
    "#saving cleaned data\n",
    "most_watched_copy.to_csv('date_store/clean/most_watched_copy_2025-10-04.csv',index=False)\n",
    "merged_df1.to_csv('date_store/clean/merged_df1_2025-10-04.csv',index=False)\n",
    "netflix_copy.to_csv('date_store/clean/netflix_copy_2025-10-04.csv',index=False)\n"
   ]
  },
  {
   "cell_type": "markdown",
   "metadata": {
    "id": "cGy_yddGtzhM"
   },
   "source": [
    "## 5. Answer the research question\n",
    "\n",
    "### **5.1:** Define and answer the research question \n",
    "Going back to the problem statement in step 1, use the cleaned data to answer the question you raised. Produce **at least** two visualizations using the cleaned data and explain how they help you answer the question."
   ]
  },
  {
   "cell_type": "markdown",
   "metadata": {
    "id": "gjedE4s4ZkEd"
   },
   "source": [
    "*Research question:* FILL IN from answer to Step 1"
   ]
  },
  {
   "cell_type": "code",
   "execution_count": 135,
   "metadata": {},
   "outputs": [
    {
     "data": {
      "text/plain": [
       "826"
      ]
     },
     "execution_count": 135,
     "metadata": {},
     "output_type": "execute_result"
    }
   ],
   "source": [
    "imdb_movies=most_watched_copy['primaryTitle'].nunique() \n",
    "# to take the unique titles Regardless to the genres\n",
    "netflix_in_imdb=merged_df1['title_clean'].nunique()\n",
    "netflix_in_imdb"
   ]
  },
  {
   "cell_type": "code",
   "execution_count": 132,
   "metadata": {
    "id": "Lkw3rW9kZmOm"
   },
   "outputs": [
    {
     "data": {
      "text/plain": [
       "<Axes: title={'center': 'Top IMDb Movies on Netflix'}>"
      ]
     },
     "execution_count": 132,
     "metadata": {},
     "output_type": "execute_result"
    },
    {
     "data": {
      "image/png": "[encoded data removed]",
      "text/plain": [
       "<Figure size 640x480 with 1 Axes>"
      ]
     },
     "metadata": {},
     "output_type": "display_data"
    }
   ],
   "source": [
    "#Visual 1 - FILL IN\n",
    "first_chart = pd.Series([imdb_movies - netflix_in_imdb,netflix_in_imdb],index=['Not on Netflix', 'Available on Netflix'])\n",
    "first_chart.plot(kind='bar', color=['gray', 'pink'], title='Top IMDb Movies on Netflix')"
   ]
  },
  {
   "cell_type": "markdown",
   "metadata": {},
   "source": [
    "From the graph, we can see that only a small percentage of the highest rated films (826 out of 4883) on IMDb are available on Netflix, showing that the platform does not include all the popular movies"
   ]
  },
  {
   "cell_type": "code",
   "execution_count": 129,
   "metadata": {
    "id": "6fdK_8ZGZm9R"
   },
   "outputs": [
    {
     "data": {
      "text/plain": [
       "<Axes: title={'center': 'Top 3 Genres Representation'}>"
      ]
     },
     "execution_count": 129,
     "metadata": {},
     "output_type": "execute_result"
    },
    {
     "data": {
      "image/png": "[encoded data removed]",
      "text/plain": [
       "<Figure size 700x500 with 1 Axes>"
      ]
     },
     "metadata": {},
     "output_type": "display_data"
    }
   ],
   "source": [
    "#Visual 2 - FILL IN\n",
    "top3_gen=merged_df1['genres'].value_counts().head(3)\n",
    "all_gen=merged_df1['genres'].value_counts().sum()\n",
    "top3_percent=(top3_gen/all_gen)*100\n",
    "\n",
    "top3_percent.plot(kind='pie',autopct='%1.1f%%', colors=['pink', 'skyblue', 'lightgrey'],\n",
    "                  figsize=(7,5),title='Top 3 Genres Representation',ylabel='')"
   ]
  },
  {
   "cell_type": "markdown",
   "metadata": {
    "id": "K5RgvMGUZoHn"
   },
   "source": [
    "As shown in the graph that the most popular genres among the highest rated movies on Netflix are Drama (55%), Comedy(24.5%) and Crime (20.5%)."
   ]
  },
  {
   "cell_type": "markdown",
   "metadata": {
    "id": "0ezWXXZVj-TP"
   },
   "source": [
    "### **5.2:** Reflection\n",
    "In 2-4 sentences, if you had more time to complete the project, what actions would you take? For example, which data quality and structural issues would you look into further, and what research questions would you further explore?"
   ]
  },
  {
   "cell_type": "markdown",
   "metadata": {
    "id": "XB3RBDG5kFe1"
   },
   "source": [
    "If I had more time to complete this project, I would focus on unifying and standardizing column names across datasets to make the merging process more efficient.I would also explore additional trends in the data, such as release patterns or genre popularity, and include other streaming platforms to compare which one hosts the highest number of top-rated movies overall."
   ]
  }
 ],
 "metadata": {
  "colab": {
   "provenance": []
  },
  "kernelspec": {
   "display_name": "Python 3 (ipykernel)",
   "language": "python",
   "name": "python3"
  },
  "language_info": {
   "codemirror_mode": {
    "name": "ipython",
    "version": 3
   },
   "file_extension": ".py",
   "mimetype": "text/x-python",
   "name": "python",
   "nbconvert_exporter": "python",
   "pygments_lexer": "ipython3",
   "version": "3.10.11"
  }
 },
 "nbformat": 4,
 "nbformat_minor": 1
}
